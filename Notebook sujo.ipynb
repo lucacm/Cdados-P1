{
 "cells": [
  {
   "cell_type": "markdown",
   "metadata": {},
   "source": [
    "# Projeto 1 - Ciência dos Dados"
   ]
  },
  {
   "cell_type": "markdown",
   "metadata": {},
   "source": [
    "Nome: __Luca Cazzolato Machado__\n",
    "\n",
    "Turma: __2C__"
   ]
  },
  {
   "cell_type": "markdown",
   "metadata": {},
   "source": [
    "## Pergunta (s) a ser respondida"
   ]
  },
  {
   "cell_type": "markdown",
   "metadata": {},
   "source": [
    "O objetivo do projeto é responder como a entrada de refugiadios nos países da União Europeia num período de dez anos afetaram os índices relacionados ao desenvolvimento dos países. Os índices a serem analisados são:\n",
    "\n",
    "- Número de refugiados\n",
    "- Desemprego (taxa (%) de desemprego de pessoas com idade 15+)\n",
    "- Violência (assassinatos) "
   ]
  },
  {
   "cell_type": "markdown",
   "metadata": {},
   "source": [
    "## Explicação da hipótese e mecanismo"
   ]
  },
  {
   "cell_type": "markdown",
   "metadata": {},
   "source": [
    "#### - Introdução\n",
    "Pessoas ao passar dos anos sempre migraram de um lugar ao outro, porém em situações de risco e ameaças as pessoas são obrigadas a sairem de seu país de origem em busca de um país melhor que possa refugiá-los e oferecer educação emprego, saúde, e todos os direitos humanos que cada cidadão possui, visto que se encontravam em uma situação constante de riscos como: guerras, pressão política e até probeza.\n",
    "\n",
    "Contudo recentemente muitos refugiados na região do Mediterrâneo começaram a migrar para países da Europa, em busca de melhores condições de vida, esse fluxo atingiu um nível crítico pelo ano de 2015 com um aumento exponencial de centenas de milhares de pessoas buscando refúgio na Europa, os motivos variavam em, guerras, conflitos, intolerância religiosa, etc. Tal ato ficou conhecidor como a Crise migratória na Europa.\n",
    "\n",
    "A maioria dos países da Europa fazem parte da União Europeia, uma união econômica e política que envolvem 28-países-estados compondo uma integração econômica, social e política, moeda comum, livre circulamento de pessoas e funcionamento por um parlamento europeu gerenciado por países eleitos internamente. É referência como um dos blocos econômico mais desenvolvidos atualmente.\n",
    "\n",
    "Portanto é viavél identificar se um grande fluxo migratório pode interferir de forma significativa e causar um desequilíbrio em um bloco econômico de grande desenvolvimento.\n",
    "\n",
    "#### - Hipótese:\n",
    "A hipótese formulada se baseia em percerber um desequilíbrio não muito significativo nos índices analisados, por conta do grande histórico e desenvolvimento observado na União Européia. Entretato é necessária a análise para confirmação\n",
    "\n",
    "#### - Mecanismo:\n",
    "O mecanismo a ser utilizado será de comparar os índices selecionados com as quantidades maiores de população refugiada num período de dez anos, selecionando os anos mais importantes (2015 por exemplo) e também comparar com outros países que não fazem parte da União Européia."
   ]
  },
  {
   "cell_type": "markdown",
   "metadata": {},
   "source": [
    "## Bases de dados usadas"
   ]
  },
  {
   "cell_type": "markdown",
   "metadata": {},
   "source": [
    "### Links e fontes utilizadas para obtenção de dados:"
   ]
  },
  {
   "attachments": {
    "image.png": {
     "image/png": "[encoded data removed]"
    }
   },
   "cell_type": "markdown",
   "metadata": {},
   "source": [
    "#### - \"Refugee population by country or territory of asylum\",\n",
    "site: https://www.gapminder.org/data/\n",
    "![image.png](attachment:image.png)\n",
    "\n",
    "#### - \"Total 15+ unemployed (% age 15+ population)\",\n",
    "site: http://www.ilo.org/public/english/employment/strat/kilm/download.htm\n",
    "\n",
    "#### - \"Homicides, total number of deaths\",\n",
    "description: Total number of estimated deaths from interpersonal violence\n",
    "\n",
    "site: http://www.healthdata.org/"
   ]
  },
  {
   "cell_type": "code",
   "execution_count": 254,
   "metadata": {},
   "outputs": [],
   "source": [
    "#Importando as bibliotecas\n",
    "\n",
    "%matplotlib inline\n",
    "import pandas as pd\n",
    "import numpy as np\n",
    "import math as math\n",
    "from scipy import stats\n",
    "import matplotlib.pyplot as plt\n",
    "import os\n",
    "import seaborn as sns"
   ]
  },
  {
   "cell_type": "code",
   "execution_count": 255,
   "metadata": {},
   "outputs": [
    {
     "name": "stdout",
     "output_type": "stream",
     "text": [
      "Esperamos trabalhar no diretório\n",
      "C:\\Users\\Luquinhass\\OneDrive - Insper - Institudo de Ensino e Pesquisa\\2° Semestre - Insper\\Ciência dos Dados\\Projeto 1\n"
     ]
    }
   ],
   "source": [
    "#Diretório\n",
    "print('Esperamos trabalhar no diretório')\n",
    "print(os.getcwd())"
   ]
  },
  {
   "cell_type": "code",
   "execution_count": 256,
   "metadata": {},
   "outputs": [],
   "source": [
    "#Leitura dos arquivos em Excel\n",
    "#Refugiados\n",
    "refugee= pd.read_excel('sm_pop_refg.xlsx')\n",
    "\n",
    "#Desempregados\n",
    "unemployed= pd.read_excel('aged_15plus_unemployment_rate_percent.xlsx')\n",
    "\n",
    "#Homicídios\n",
    "murder= pd.read_excel('murder_total_deaths.xlsx')"
   ]
  },
  {
   "cell_type": "code",
   "execution_count": 257,
   "metadata": {},
   "outputs": [],
   "source": [
    "#Escolhendo o ano para cada variável\n",
    "#Ano 2006\n",
    "refugee_2006= refugee.loc[:, ['country', 2006]] \n",
    "\n",
    "#Ano 2016\n",
    "refugee_2016= refugee.loc[:, ['country', 2016]] "
   ]
  },
  {
   "cell_type": "code",
   "execution_count": 258,
   "metadata": {},
   "outputs": [],
   "source": [
    "#Taxa de desempregados anos:\n",
    "#2006\n",
    "unemployed_2006= unemployed.loc[:, ['country', 2006]] \n",
    "\n",
    "#2016\n",
    "unemployed_2016= unemployed.loc[:, ['country', 2016]] "
   ]
  },
  {
   "cell_type": "code",
   "execution_count": 259,
   "metadata": {},
   "outputs": [],
   "source": [
    "#Assassinatos anos:\n",
    "#2006\n",
    "murder_2006= murder.loc[:,['country', 2006]]\n",
    "\n",
    "#2016\n",
    "murder_2016= murder.loc[:,['country', 2016]]"
   ]
  },
  {
   "cell_type": "code",
   "execution_count": 260,
   "metadata": {},
   "outputs": [],
   "source": [
    "#Mudando os índices:\n",
    "#2006\n",
    "refugee_idx_2006 = refugee_2006.set_index(\"country\")\n",
    "\n",
    "unemployed_idx_2006 = unemployed_2006.set_index('country')\n",
    "\n",
    "murder_idx_2006 = murder_2006.set_index('country')\n",
    "\n",
    "\n",
    "#2016\n",
    "refugee_idx_2016 = refugee_2016.set_index(\"country\")\n",
    "\n",
    "unemployed_idx_2016 = unemployed_2016.set_index('country')\n",
    "\n",
    "murder_idx_2016 = murder_2016.set_index('country')\n"
   ]
  },
  {
   "cell_type": "code",
   "execution_count": 261,
   "metadata": {},
   "outputs": [],
   "source": [
    "#Join:\n",
    "#2006\n",
    "join1= refugee_idx_2006.join(unemployed_idx_2006, how='inner', lsuffix='_refugee', rsuffix='_total_unemployed')\n",
    "dataframe_2006= join1.join(murder_idx_2006, how='inner')\n",
    "\n",
    "dataframe_2006.columns = ['2006_refugiados','2006_desemprego', '2006_assassinatos']\n",
    "df_2006= dataframe_2006\n",
    "\n",
    "\n",
    "#2016\n",
    "join2= refugee_idx_2016.join(unemployed_idx_2016, how='inner', lsuffix='_refugee', rsuffix='_total_unemployed')\n",
    "dataframe_2016= join2.join(murder_idx_2016, how='inner')\n",
    "\n",
    "dataframe_2016.columns = ['2016_refugiados','2016_desemprego', '2016_assassinatos']\n",
    "df_2016= dataframe_2016"
   ]
  },
  {
   "cell_type": "code",
   "execution_count": 262,
   "metadata": {},
   "outputs": [],
   "source": [
    "#Adicionando label de União Europeia\n",
    "df_2006[\"UE\"]=\"Não\"\n",
    "df_2016[\"UE\"]=\"Não\"\n",
    "\n",
    "\n",
    "df_2006.loc[('Austria', 'Belgium', 'Bulgaria', 'Croatia', 'Cyprus', 'Czech Republic', 'Denmark', \n",
    "    'Estonia', 'Finland', 'France', 'Germany', 'Greece', 'Hungary', 'Ireland', 'Italy', 'Latvia', 'Lithuania', \n",
    "    'Luxembourg', 'Malta', 'Netherlands', 'Poland', 'Portugal', 'Romania', 'Slovak Republic', 'Slovenia', 'Spain',\n",
    "    'Sweden', 'United Kingdom'), \"UE\"]='Sim'\n",
    "\n",
    "df_2016.loc[('Austria', 'Belgium', 'Bulgaria', 'Croatia', 'Cyprus', 'Czech Republic', 'Denmark', \n",
    "    'Estonia', 'Finland', 'France', 'Germany', 'Greece', 'Hungary', 'Ireland', 'Italy', 'Latvia', 'Lithuania', \n",
    "    'Luxembourg', 'Malta', 'Netherlands', 'Poland', 'Portugal', 'Romania', 'Slovak Republic', 'Slovenia', 'Spain',\n",
    "    'Sweden', 'United Kingdom'), \"UE\"]='Sim'\n"
   ]
  },
  {
   "cell_type": "code",
   "execution_count": 263,
   "metadata": {},
   "outputs": [
    {
     "data": {
      "text/html": [
       "<div>\n",
       "<style scoped>\n",
       "    .dataframe tbody tr th:only-of-type {\n",
       "        vertical-align: middle;\n",
       "    }\n",
       "\n",
       "    .dataframe tbody tr th {\n",
       "        vertical-align: top;\n",
       "    }\n",
       "\n",
       "    .dataframe thead th {\n",
       "        text-align: right;\n",
       "    }\n",
       "</style>\n",
       "<table border=\"1\" class=\"dataframe\">\n",
       "  <thead>\n",
       "    <tr style=\"text-align: right;\">\n",
       "      <th></th>\n",
       "      <th>2006_refugiados</th>\n",
       "      <th>2006_desemprego</th>\n",
       "      <th>2006_assassinatos</th>\n",
       "      <th>UE</th>\n",
       "    </tr>\n",
       "    <tr>\n",
       "      <th>country</th>\n",
       "      <th></th>\n",
       "      <th></th>\n",
       "      <th></th>\n",
       "      <th></th>\n",
       "    </tr>\n",
       "  </thead>\n",
       "  <tbody>\n",
       "    <tr>\n",
       "      <th>Afghanistan</th>\n",
       "      <td>35.0</td>\n",
       "      <td>NaN</td>\n",
       "      <td>4850.00</td>\n",
       "      <td>Não</td>\n",
       "    </tr>\n",
       "    <tr>\n",
       "      <th>Albania</th>\n",
       "      <td>56.0</td>\n",
       "      <td>NaN</td>\n",
       "      <td>82.90</td>\n",
       "      <td>Não</td>\n",
       "    </tr>\n",
       "    <tr>\n",
       "      <th>Algeria</th>\n",
       "      <td>94200.0</td>\n",
       "      <td>12.3</td>\n",
       "      <td>444.00</td>\n",
       "      <td>Não</td>\n",
       "    </tr>\n",
       "    <tr>\n",
       "      <th>Angola</th>\n",
       "      <td>13100.0</td>\n",
       "      <td>NaN</td>\n",
       "      <td>876.00</td>\n",
       "      <td>Não</td>\n",
       "    </tr>\n",
       "    <tr>\n",
       "      <th>Antigua and Barbuda</th>\n",
       "      <td>NaN</td>\n",
       "      <td>NaN</td>\n",
       "      <td>4.61</td>\n",
       "      <td>Não</td>\n",
       "    </tr>\n",
       "  </tbody>\n",
       "</table>\n",
       "</div>"
      ],
      "text/plain": [
       "                     2006_refugiados  2006_desemprego  2006_assassinatos   UE\n",
       "country                                                                      \n",
       "Afghanistan                     35.0              NaN            4850.00  Não\n",
       "Albania                         56.0              NaN              82.90  Não\n",
       "Algeria                      94200.0             12.3             444.00  Não\n",
       "Angola                       13100.0              NaN             876.00  Não\n",
       "Antigua and Barbuda              NaN              NaN               4.61  Não"
      ]
     },
     "execution_count": 263,
     "metadata": {},
     "output_type": "execute_result"
    }
   ],
   "source": [
    "df_2006.head()"
   ]
  },
  {
   "cell_type": "code",
   "execution_count": 264,
   "metadata": {},
   "outputs": [
    {
     "data": {
      "text/html": [
       "<div>\n",
       "<style scoped>\n",
       "    .dataframe tbody tr th:only-of-type {\n",
       "        vertical-align: middle;\n",
       "    }\n",
       "\n",
       "    .dataframe tbody tr th {\n",
       "        vertical-align: top;\n",
       "    }\n",
       "\n",
       "    .dataframe thead th {\n",
       "        text-align: right;\n",
       "    }\n",
       "</style>\n",
       "<table border=\"1\" class=\"dataframe\">\n",
       "  <thead>\n",
       "    <tr style=\"text-align: right;\">\n",
       "      <th></th>\n",
       "      <th>2016_refugiados</th>\n",
       "      <th>2016_desemprego</th>\n",
       "      <th>2016_assassinatos</th>\n",
       "      <th>UE</th>\n",
       "    </tr>\n",
       "    <tr>\n",
       "      <th>country</th>\n",
       "      <th></th>\n",
       "      <th></th>\n",
       "      <th></th>\n",
       "      <th></th>\n",
       "    </tr>\n",
       "  </thead>\n",
       "  <tbody>\n",
       "    <tr>\n",
       "      <th>Afghanistan</th>\n",
       "      <td>59800.0</td>\n",
       "      <td>NaN</td>\n",
       "      <td>6270.00</td>\n",
       "      <td>Não</td>\n",
       "    </tr>\n",
       "    <tr>\n",
       "      <th>Albania</th>\n",
       "      <td>138.0</td>\n",
       "      <td>15.2</td>\n",
       "      <td>69.50</td>\n",
       "      <td>Não</td>\n",
       "    </tr>\n",
       "    <tr>\n",
       "      <th>Algeria</th>\n",
       "      <td>94200.0</td>\n",
       "      <td>10.2</td>\n",
       "      <td>471.00</td>\n",
       "      <td>Não</td>\n",
       "    </tr>\n",
       "    <tr>\n",
       "      <th>Angola</th>\n",
       "      <td>15600.0</td>\n",
       "      <td>NaN</td>\n",
       "      <td>1090.00</td>\n",
       "      <td>Não</td>\n",
       "    </tr>\n",
       "    <tr>\n",
       "      <th>Antigua and Barbuda</th>\n",
       "      <td>4.0</td>\n",
       "      <td>NaN</td>\n",
       "      <td>4.85</td>\n",
       "      <td>Não</td>\n",
       "    </tr>\n",
       "  </tbody>\n",
       "</table>\n",
       "</div>"
      ],
      "text/plain": [
       "                     2016_refugiados  2016_desemprego  2016_assassinatos   UE\n",
       "country                                                                      \n",
       "Afghanistan                  59800.0              NaN            6270.00  Não\n",
       "Albania                        138.0             15.2              69.50  Não\n",
       "Algeria                      94200.0             10.2             471.00  Não\n",
       "Angola                       15600.0              NaN            1090.00  Não\n",
       "Antigua and Barbuda              4.0              NaN               4.85  Não"
      ]
     },
     "execution_count": 264,
     "metadata": {},
     "output_type": "execute_result"
    }
   ],
   "source": [
    "df_2016.head()"
   ]
  },
  {
   "cell_type": "markdown",
   "metadata": {},
   "source": [
    "## Análise de dados"
   ]
  },
  {
   "cell_type": "markdown",
   "metadata": {},
   "source": [
    "Insira abaixo uma análise de dados tratada para ter maior clareza. \n",
    "\n",
    "Lembre-se de que, além deste arquivo principal, você precisa entregar um ou mais *notebooks* mais brutos com todas as tentativas que fez e que não deram certo .\n",
    "\n",
    "**Não inclua dados ou gráficos sem motivação nem interpretação** - sempre que fizer uma análise, plot ou tablea, diga qual sua intenção. Logo após a apresentação diga qual conclusão específica ou interpretação você tira daquela análise"
   ]
  },
  {
   "cell_type": "markdown",
   "metadata": {},
   "source": [
    "## União Europeia - Refugiados"
   ]
  },
  {
   "cell_type": "code",
   "execution_count": 265,
   "metadata": {},
   "outputs": [],
   "source": [
    "#Exploração da população refugiada nos anos selecionados (UNIÃO EUROPÉIA)\n",
    "#Começando com o palpite de uma amplitude\n",
    "\n",
    "df1 = df_2006.loc[(df_2006[\"UE\"]==\"Sim\"),['2006_refugiados']]\n",
    "df2 = df_2016.loc[(df_2016[\"UE\"]==\"Sim\"),['2016_refugiados']]\n",
    "\n",
    "refg_2006= df1['2006_refugiados']\n",
    "refg_2016= df2['2016_refugiados']"
   ]
  },
  {
   "cell_type": "code",
   "execution_count": 266,
   "metadata": {},
   "outputs": [
    {
     "data": {
      "text/html": [
       "<div>\n",
       "<style scoped>\n",
       "    .dataframe tbody tr th:only-of-type {\n",
       "        vertical-align: middle;\n",
       "    }\n",
       "\n",
       "    .dataframe tbody tr th {\n",
       "        vertical-align: top;\n",
       "    }\n",
       "\n",
       "    .dataframe thead th {\n",
       "        text-align: right;\n",
       "    }\n",
       "</style>\n",
       "<table border=\"1\" class=\"dataframe\">\n",
       "  <thead>\n",
       "    <tr style=\"text-align: right;\">\n",
       "      <th></th>\n",
       "      <th>2006_refugiados</th>\n",
       "      <th>2016_refugiados</th>\n",
       "    </tr>\n",
       "    <tr>\n",
       "      <th>country</th>\n",
       "      <th></th>\n",
       "      <th></th>\n",
       "    </tr>\n",
       "  </thead>\n",
       "  <tbody>\n",
       "    <tr>\n",
       "      <th>Austria</th>\n",
       "      <td>25500.0</td>\n",
       "      <td>93300.0</td>\n",
       "    </tr>\n",
       "    <tr>\n",
       "      <th>Belgium</th>\n",
       "      <td>16800.0</td>\n",
       "      <td>42200.0</td>\n",
       "    </tr>\n",
       "    <tr>\n",
       "      <th>Bulgaria</th>\n",
       "      <td>4500.0</td>\n",
       "      <td>17800.0</td>\n",
       "    </tr>\n",
       "    <tr>\n",
       "      <th>Croatia</th>\n",
       "      <td>2440.0</td>\n",
       "      <td>304.0</td>\n",
       "    </tr>\n",
       "    <tr>\n",
       "      <th>Cyprus</th>\n",
       "      <td>924.0</td>\n",
       "      <td>8480.0</td>\n",
       "    </tr>\n",
       "  </tbody>\n",
       "</table>\n",
       "</div>"
      ],
      "text/plain": [
       "          2006_refugiados  2016_refugiados\n",
       "country                                   \n",
       "Austria           25500.0          93300.0\n",
       "Belgium           16800.0          42200.0\n",
       "Bulgaria           4500.0          17800.0\n",
       "Croatia            2440.0            304.0\n",
       "Cyprus              924.0           8480.0"
      ]
     },
     "execution_count": 266,
     "metadata": {},
     "output_type": "execute_result"
    }
   ],
   "source": [
    "#Tabela quantidade de refugiados nos anos\n",
    "sm_pop_refg=df1.join(df2, how=\"inner\")\n",
    "sm_pop_refg.head()"
   ]
  },
  {
   "cell_type": "code",
   "execution_count": 267,
   "metadata": {},
   "outputs": [
    {
     "data": {
      "text/html": [
       "<div>\n",
       "<style scoped>\n",
       "    .dataframe tbody tr th:only-of-type {\n",
       "        vertical-align: middle;\n",
       "    }\n",
       "\n",
       "    .dataframe tbody tr th {\n",
       "        vertical-align: top;\n",
       "    }\n",
       "\n",
       "    .dataframe thead th {\n",
       "        text-align: right;\n",
       "    }\n",
       "</style>\n",
       "<table border=\"1\" class=\"dataframe\">\n",
       "  <thead>\n",
       "    <tr style=\"text-align: right;\">\n",
       "      <th></th>\n",
       "      <th>2006_refugiados</th>\n",
       "      <th>2016_refugiados</th>\n",
       "    </tr>\n",
       "  </thead>\n",
       "  <tbody>\n",
       "    <tr>\n",
       "      <th>count</th>\n",
       "      <td>28.0</td>\n",
       "      <td>28.0</td>\n",
       "    </tr>\n",
       "    <tr>\n",
       "      <th>mean</th>\n",
       "      <td>49977.7</td>\n",
       "      <td>67447.0</td>\n",
       "    </tr>\n",
       "    <tr>\n",
       "      <th>std</th>\n",
       "      <td>125990.4</td>\n",
       "      <td>139738.9</td>\n",
       "    </tr>\n",
       "    <tr>\n",
       "      <th>min</th>\n",
       "      <td>5.0</td>\n",
       "      <td>304.0</td>\n",
       "    </tr>\n",
       "    <tr>\n",
       "      <th>25%</th>\n",
       "      <td>1476.0</td>\n",
       "      <td>1835.0</td>\n",
       "    </tr>\n",
       "    <tr>\n",
       "      <th>50%</th>\n",
       "      <td>4890.0</td>\n",
       "      <td>10090.0</td>\n",
       "    </tr>\n",
       "    <tr>\n",
       "      <th>75%</th>\n",
       "      <td>25850.0</td>\n",
       "      <td>58125.0</td>\n",
       "    </tr>\n",
       "    <tr>\n",
       "      <th>max</th>\n",
       "      <td>605000.0</td>\n",
       "      <td>669000.0</td>\n",
       "    </tr>\n",
       "  </tbody>\n",
       "</table>\n",
       "</div>"
      ],
      "text/plain": [
       "       2006_refugiados  2016_refugiados\n",
       "count             28.0             28.0\n",
       "mean           49977.7          67447.0\n",
       "std           125990.4         139738.9\n",
       "min                5.0            304.0\n",
       "25%             1476.0           1835.0\n",
       "50%             4890.0          10090.0\n",
       "75%            25850.0          58125.0\n",
       "max           605000.0         669000.0"
      ]
     },
     "execution_count": 267,
     "metadata": {},
     "output_type": "execute_result"
    }
   ],
   "source": [
    "sm_pop_refg.describe().round(decimals=1)"
   ]
  },
  {
   "cell_type": "code",
   "execution_count": 268,
   "metadata": {},
   "outputs": [
    {
     "name": "stdout",
     "output_type": "stream",
     "text": [
      "Amplitude da classe: 126428.17\n"
     ]
    }
   ],
   "source": [
    "#Amplitude dos refugiados dos países da união europeia\n",
    "\n",
    "n=math.sqrt(len(refg_2006))\n",
    "max_2016 = refg_2016.max()\n",
    "min_2006 = refg_2006.min()\n",
    "amplitude=(max_2016-min_2006)/n\n",
    "print('Amplitude da classe:', amplitude.round(decimals=2))"
   ]
  },
  {
   "cell_type": "code",
   "execution_count": 269,
   "metadata": {},
   "outputs": [],
   "source": [
    "#Criando faixa de 100000\n",
    "int1= int(min_2006)\n",
    "int2= int(max_2016)\n",
    "int3= int(amplitude)\n",
    "\n",
    "faixa = range(int1, 700006, 100000)"
   ]
  },
  {
   "cell_type": "code",
   "execution_count": 270,
   "metadata": {},
   "outputs": [],
   "source": [
    "cat_2006 = pd.cut(refg_2006, faixa, False)\n",
    "ut1 = (cat_2006.value_counts(True)*100).round(decimals=1)\n",
    "\n",
    "cat_2016 = pd.cut(refg_2016, faixa, False)\n",
    "ut2 = (cat_2016.value_counts(True)*100).round(decimals=1)"
   ]
  },
  {
   "cell_type": "code",
   "execution_count": 271,
   "metadata": {},
   "outputs": [
    {
     "name": "stdout",
     "output_type": "stream",
     "text": [
      "Frequências relativas:\n",
      "                  2006_refugiados  2016_refugiados\n",
      "[5, 100005)                  85.7             78.6\n",
      "[100005, 200005)              7.1             10.7\n",
      "[200005, 300005)              0.0              3.6\n",
      "[300005, 400005)              3.6              3.6\n",
      "[400005, 500005)              0.0              0.0\n",
      "[500005, 600005)              0.0              0.0\n",
      "[600005, 700005)              3.6              3.6\n"
     ]
    }
   ],
   "source": [
    "print('Frequências relativas:')\n",
    "tab = pd.DataFrame([ut1,ut2]).T\n",
    "print(tab) "
   ]
  },
  {
   "cell_type": "code",
   "execution_count": 272,
   "metadata": {},
   "outputs": [
    {
     "data": {
      "image/png": "[encoded data removed]",
      "text/plain": [
       "<Figure size 1296x360 with 2 Axes>"
      ]
     },
     "metadata": {
      "needs_background": "light"
     },
     "output_type": "display_data"
    }
   ],
   "source": [
    "#Histogramas dos anos de 2006, 2015, 2016\n",
    "\n",
    "fig = plt.figure(figsize=(18, 5))\n",
    "plt.subplot(131)\n",
    "plot = refg_2006.plot.hist(bins=faixa,title='HISTOGRAMA - 2006', density=True, color='green')\n",
    "plt.ylabel('Densidade')\n",
    "plt.xlabel('População refugiada UE')\n",
    "plt.grid(True)\n",
    "\n",
    "plt.subplot(132)\n",
    "plot = refg_2016.plot.hist(bins=faixa,title='HISTOGRAMA - 2016', density=True, color='cyan')\n",
    "plt.ylabel('Densidade')\n",
    "plt.xlabel('População refugiada UE')\n",
    "plt.grid(True)\n",
    "\n",
    "plt.tight_layout()\n",
    "plt.show()"
   ]
  },
  {
   "cell_type": "code",
   "execution_count": 273,
   "metadata": {},
   "outputs": [
    {
     "name": "stdout",
     "output_type": "stream",
     "text": [
      "Pop. Refugiada Média ano 2006: 49977.71\n",
      "\n",
      "Pop. Refugiada Média ano 2016: 67447.04\n",
      "\n",
      "Pop. Refugiada Mediana ano 2006: 4890.0\n",
      "\n",
      "Pop. Refugiada Mediana ano 2016: 10090.0\n"
     ]
    }
   ],
   "source": [
    "#Medidas de posição\n",
    "\n",
    "print('Pop. Refugiada Média ano 2006:', round(refg_2006.mean(), 2))\n",
    "print()\n",
    "print('Pop. Refugiada Média ano 2016:', round(refg_2016.mean(), 2))\n",
    "print()\n",
    "print('Pop. Refugiada Mediana ano 2006:', refg_2006.median())\n",
    "print()\n",
    "print('Pop. Refugiada Mediana ano 2016:', refg_2016.median())"
   ]
  },
  {
   "cell_type": "markdown",
   "metadata": {},
   "source": [
    "## Mundo - Refugiados"
   ]
  },
  {
   "cell_type": "code",
   "execution_count": 274,
   "metadata": {},
   "outputs": [],
   "source": [
    "#Exploração da população refugiada nos anos selecionados (Resto do Mundo)\n",
    "#Começando com o palpite de uma amplitude\n",
    "\n",
    "df1 = df_2006.loc[(df_2006[\"UE\"]==\"Não\"),['2006_refugiados']]\n",
    "df2 = df_2016.loc[(df_2016[\"UE\"]==\"Não\"),['2016_refugiados']]\n",
    "\n",
    "refg_2006= df1['2006_refugiados']\n",
    "refg_2016= df2['2016_refugiados']"
   ]
  },
  {
   "cell_type": "code",
   "execution_count": 275,
   "metadata": {},
   "outputs": [
    {
     "data": {
      "text/html": [
       "<div>\n",
       "<style scoped>\n",
       "    .dataframe tbody tr th:only-of-type {\n",
       "        vertical-align: middle;\n",
       "    }\n",
       "\n",
       "    .dataframe tbody tr th {\n",
       "        vertical-align: top;\n",
       "    }\n",
       "\n",
       "    .dataframe thead th {\n",
       "        text-align: right;\n",
       "    }\n",
       "</style>\n",
       "<table border=\"1\" class=\"dataframe\">\n",
       "  <thead>\n",
       "    <tr style=\"text-align: right;\">\n",
       "      <th></th>\n",
       "      <th>2006_refugiados</th>\n",
       "      <th>2016_refugiados</th>\n",
       "    </tr>\n",
       "    <tr>\n",
       "      <th>country</th>\n",
       "      <th></th>\n",
       "      <th></th>\n",
       "    </tr>\n",
       "  </thead>\n",
       "  <tbody>\n",
       "    <tr>\n",
       "      <th>Afghanistan</th>\n",
       "      <td>35.0</td>\n",
       "      <td>59800.0</td>\n",
       "    </tr>\n",
       "    <tr>\n",
       "      <th>Albania</th>\n",
       "      <td>56.0</td>\n",
       "      <td>138.0</td>\n",
       "    </tr>\n",
       "    <tr>\n",
       "      <th>Algeria</th>\n",
       "      <td>94200.0</td>\n",
       "      <td>94200.0</td>\n",
       "    </tr>\n",
       "    <tr>\n",
       "      <th>Angola</th>\n",
       "      <td>13100.0</td>\n",
       "      <td>15600.0</td>\n",
       "    </tr>\n",
       "    <tr>\n",
       "      <th>Antigua and Barbuda</th>\n",
       "      <td>NaN</td>\n",
       "      <td>4.0</td>\n",
       "    </tr>\n",
       "  </tbody>\n",
       "</table>\n",
       "</div>"
      ],
      "text/plain": [
       "                     2006_refugiados  2016_refugiados\n",
       "country                                              \n",
       "Afghanistan                     35.0          59800.0\n",
       "Albania                         56.0            138.0\n",
       "Algeria                      94200.0          94200.0\n",
       "Angola                       13100.0          15600.0\n",
       "Antigua and Barbuda              NaN              4.0"
      ]
     },
     "execution_count": 275,
     "metadata": {},
     "output_type": "execute_result"
    }
   ],
   "source": [
    "#Tabela quantidade de refugiados nos anos\n",
    "sm_pop_refg=df1.join(df2, how=\"inner\")\n",
    "sm_pop_refg.head()"
   ]
  },
  {
   "cell_type": "code",
   "execution_count": 276,
   "metadata": {},
   "outputs": [
    {
     "data": {
      "text/html": [
       "<div>\n",
       "<style scoped>\n",
       "    .dataframe tbody tr th:only-of-type {\n",
       "        vertical-align: middle;\n",
       "    }\n",
       "\n",
       "    .dataframe tbody tr th {\n",
       "        vertical-align: top;\n",
       "    }\n",
       "\n",
       "    .dataframe thead th {\n",
       "        text-align: right;\n",
       "    }\n",
       "</style>\n",
       "<table border=\"1\" class=\"dataframe\">\n",
       "  <thead>\n",
       "    <tr style=\"text-align: right;\">\n",
       "      <th></th>\n",
       "      <th>2006_refugiados</th>\n",
       "      <th>2016_refugiados</th>\n",
       "    </tr>\n",
       "  </thead>\n",
       "  <tbody>\n",
       "    <tr>\n",
       "      <th>count</th>\n",
       "      <td>116.0</td>\n",
       "      <td>127.0</td>\n",
       "    </tr>\n",
       "    <tr>\n",
       "      <th>mean</th>\n",
       "      <td>111040.8</td>\n",
       "      <td>162090.6</td>\n",
       "    </tr>\n",
       "    <tr>\n",
       "      <th>std</th>\n",
       "      <td>326493.0</td>\n",
       "      <td>456662.7</td>\n",
       "    </tr>\n",
       "    <tr>\n",
       "      <th>min</th>\n",
       "      <td>1.0</td>\n",
       "      <td>1.0</td>\n",
       "    </tr>\n",
       "    <tr>\n",
       "      <th>25%</th>\n",
       "      <td>499.2</td>\n",
       "      <td>335.0</td>\n",
       "    </tr>\n",
       "    <tr>\n",
       "      <th>50%</th>\n",
       "      <td>4175.0</td>\n",
       "      <td>4770.0</td>\n",
       "    </tr>\n",
       "    <tr>\n",
       "      <th>75%</th>\n",
       "      <td>48675.0</td>\n",
       "      <td>91650.0</td>\n",
       "    </tr>\n",
       "    <tr>\n",
       "      <th>max</th>\n",
       "      <td>2360000.0</td>\n",
       "      <td>2870000.0</td>\n",
       "    </tr>\n",
       "  </tbody>\n",
       "</table>\n",
       "</div>"
      ],
      "text/plain": [
       "       2006_refugiados  2016_refugiados\n",
       "count            116.0            127.0\n",
       "mean          111040.8         162090.6\n",
       "std           326493.0         456662.7\n",
       "min                1.0              1.0\n",
       "25%              499.2            335.0\n",
       "50%             4175.0           4770.0\n",
       "75%            48675.0          91650.0\n",
       "max          2360000.0        2870000.0"
      ]
     },
     "execution_count": 276,
     "metadata": {},
     "output_type": "execute_result"
    }
   ],
   "source": [
    "sm_pop_refg.describe().round(decimals=1)"
   ]
  },
  {
   "cell_type": "code",
   "execution_count": 277,
   "metadata": {},
   "outputs": [
    {
     "name": "stdout",
     "output_type": "stream",
     "text": [
      "Amplitude da classe: 243430.14\n"
     ]
    }
   ],
   "source": [
    "#Amplitude dos refugiados dos países da união europeia\n",
    "\n",
    "n=math.sqrt(len(refg_2006))\n",
    "max_2016 = refg_2016.max()\n",
    "min_2006 = refg_2006.min()\n",
    "amplitude=(max_2016-min_2006)/n\n",
    "print('Amplitude da classe:', amplitude.round(decimals=2))"
   ]
  },
  {
   "cell_type": "code",
   "execution_count": 278,
   "metadata": {},
   "outputs": [],
   "source": [
    "#Criando faixa de 100000\n",
    "int1= int(min_2006)\n",
    "int2= int(max_2016)\n",
    "int3= int(amplitude)\n",
    "\n",
    "faixa = range(int1, int2+200000, int3)"
   ]
  },
  {
   "cell_type": "code",
   "execution_count": 279,
   "metadata": {},
   "outputs": [],
   "source": [
    "cat_2006 = pd.cut(refg_2006, faixa, False)\n",
    "ut1 = (cat_2006.value_counts(True)*100).round(decimals=1)\n",
    "\n",
    "cat_2016 = pd.cut(refg_2016, faixa, False)\n",
    "ut2 = (cat_2016.value_counts(True)*100).round(decimals=1)"
   ]
  },
  {
   "cell_type": "code",
   "execution_count": 280,
   "metadata": {},
   "outputs": [
    {
     "name": "stdout",
     "output_type": "stream",
     "text": [
      "Frequências relativas:\n",
      "                    2006_refugiados  2016_refugiados\n",
      "[1, 243431)                    89.7             83.5\n",
      "[243431, 486861)                5.2              9.4\n",
      "[486861, 730291)                0.0              0.8\n",
      "[730291, 973721)                1.7              1.6\n",
      "[973721, 1217151)               1.7              0.8\n",
      "[1217151, 1460581)              0.0              0.8\n",
      "[1460581, 1704011)              0.0              0.8\n",
      "[1704011, 1947441)              0.9              0.0\n",
      "[1947441, 2190871)              0.0              0.8\n",
      "[2190871, 2434301)              0.9              0.0\n",
      "[2434301, 2677731)              0.0              0.0\n",
      "[2677731, 2921161)              0.0              1.6\n"
     ]
    }
   ],
   "source": [
    "print('Frequências relativas:')\n",
    "tab = pd.DataFrame([ut1,ut2]).T\n",
    "print(tab) "
   ]
  },
  {
   "cell_type": "code",
   "execution_count": 281,
   "metadata": {},
   "outputs": [
    {
     "data": {
      "image/png": "[encoded data removed]",
      "text/plain": [
       "<Figure size 1296x360 with 2 Axes>"
      ]
     },
     "metadata": {
      "needs_background": "light"
     },
     "output_type": "display_data"
    }
   ],
   "source": [
    "#Histogramas dos anos de 2006, 2015, 2016\n",
    "\n",
    "fig = plt.figure(figsize=(18, 5))\n",
    "plt.subplot(131)\n",
    "plot = refg_2006.plot.hist(bins=faixa,title='HISTOGRAMA - 2006', density=True, color='red')\n",
    "plt.ylabel('Densidade')\n",
    "plt.xlabel('População Refugiada Mundo')\n",
    "plt.grid(True)\n",
    "\n",
    "plt.subplot(132)\n",
    "plot = refg_2016.plot.hist(bins=faixa,title='HISTOGRAMA - 2016', density=True, color='gold')\n",
    "plt.ylabel('Densidade')\n",
    "plt.xlabel('População Refugiada no Mundo')\n",
    "plt.grid(True)\n",
    "\n",
    "plt.tight_layout()\n",
    "plt.show()"
   ]
  },
  {
   "cell_type": "code",
   "execution_count": 282,
   "metadata": {},
   "outputs": [
    {
     "name": "stdout",
     "output_type": "stream",
     "text": [
      "Pop. Refugiada Média ano 2006: 111040.8\n",
      "\n",
      "Pop. Refugiada Média ano 2016: 162090.61\n",
      "\n",
      "\n",
      "Pop. Refugiada Mediana ano 2006: 4175.0\n",
      "\n",
      "Pop. Refugiada Mediana ano 2016: 4770.0\n"
     ]
    }
   ],
   "source": [
    "#Medidas de posição\n",
    "\n",
    "\n",
    "print('Pop. Refugiada Média ano 2006:', round(refg_2006.mean(), 2))\n",
    "print()\n",
    "print('Pop. Refugiada Média ano 2016:', round(refg_2016.mean(), 2))\n",
    "print()\n",
    "print()\n",
    "print('Pop. Refugiada Mediana ano 2006:', refg_2006.median())\n",
    "print()\n",
    "print('Pop. Refugiada Mediana ano 2016:', refg_2016.median())"
   ]
  },
  {
   "cell_type": "markdown",
   "metadata": {},
   "source": [
    "## Desemprego - União Européia"
   ]
  },
  {
   "cell_type": "code",
   "execution_count": 283,
   "metadata": {},
   "outputs": [],
   "source": [
    "#Exploração da população refugiada nos anos selecionados (Resto do Mundo)\n",
    "#Começando com o palpite de uma amplitude\n",
    "\n",
    "df1 = df_2006.loc[(df_2006[\"UE\"]==\"Sim\"),['2006_desemprego']]\n",
    "df2 = df_2016.loc[(df_2016[\"UE\"]==\"Sim\"),['2016_desemprego']]\n",
    "\n",
    "unply_2006= df1['2006_desemprego']\n",
    "unply_2016= df2['2016_desemprego']"
   ]
  },
  {
   "cell_type": "code",
   "execution_count": 284,
   "metadata": {},
   "outputs": [
    {
     "data": {
      "text/html": [
       "<div>\n",
       "<style scoped>\n",
       "    .dataframe tbody tr th:only-of-type {\n",
       "        vertical-align: middle;\n",
       "    }\n",
       "\n",
       "    .dataframe tbody tr th {\n",
       "        vertical-align: top;\n",
       "    }\n",
       "\n",
       "    .dataframe thead th {\n",
       "        text-align: right;\n",
       "    }\n",
       "</style>\n",
       "<table border=\"1\" class=\"dataframe\">\n",
       "  <thead>\n",
       "    <tr style=\"text-align: right;\">\n",
       "      <th></th>\n",
       "      <th>2006_desemprego</th>\n",
       "      <th>2016_desemprego</th>\n",
       "    </tr>\n",
       "    <tr>\n",
       "      <th>country</th>\n",
       "      <th></th>\n",
       "      <th></th>\n",
       "    </tr>\n",
       "  </thead>\n",
       "  <tbody>\n",
       "    <tr>\n",
       "      <th>Austria</th>\n",
       "      <td>5.24</td>\n",
       "      <td>6.01</td>\n",
       "    </tr>\n",
       "    <tr>\n",
       "      <th>Belgium</th>\n",
       "      <td>8.25</td>\n",
       "      <td>7.83</td>\n",
       "    </tr>\n",
       "    <tr>\n",
       "      <th>Bulgaria</th>\n",
       "      <td>8.95</td>\n",
       "      <td>7.57</td>\n",
       "    </tr>\n",
       "    <tr>\n",
       "      <th>Croatia</th>\n",
       "      <td>11.10</td>\n",
       "      <td>13.10</td>\n",
       "    </tr>\n",
       "    <tr>\n",
       "      <th>Cyprus</th>\n",
       "      <td>4.54</td>\n",
       "      <td>12.90</td>\n",
       "    </tr>\n",
       "    <tr>\n",
       "      <th>Czech Republic</th>\n",
       "      <td>7.15</td>\n",
       "      <td>3.95</td>\n",
       "    </tr>\n",
       "    <tr>\n",
       "      <th>Denmark</th>\n",
       "      <td>3.90</td>\n",
       "      <td>6.18</td>\n",
       "    </tr>\n",
       "    <tr>\n",
       "      <th>Estonia</th>\n",
       "      <td>5.91</td>\n",
       "      <td>6.76</td>\n",
       "    </tr>\n",
       "    <tr>\n",
       "      <th>Finland</th>\n",
       "      <td>7.72</td>\n",
       "      <td>8.82</td>\n",
       "    </tr>\n",
       "    <tr>\n",
       "      <th>France</th>\n",
       "      <td>8.45</td>\n",
       "      <td>10.10</td>\n",
       "    </tr>\n",
       "    <tr>\n",
       "      <th>Germany</th>\n",
       "      <td>10.30</td>\n",
       "      <td>4.12</td>\n",
       "    </tr>\n",
       "    <tr>\n",
       "      <th>Greece</th>\n",
       "      <td>9.01</td>\n",
       "      <td>23.50</td>\n",
       "    </tr>\n",
       "    <tr>\n",
       "      <th>Hungary</th>\n",
       "      <td>7.49</td>\n",
       "      <td>5.11</td>\n",
       "    </tr>\n",
       "    <tr>\n",
       "      <th>Ireland</th>\n",
       "      <td>4.41</td>\n",
       "      <td>8.37</td>\n",
       "    </tr>\n",
       "    <tr>\n",
       "      <th>Italy</th>\n",
       "      <td>6.78</td>\n",
       "      <td>11.70</td>\n",
       "    </tr>\n",
       "    <tr>\n",
       "      <th>Latvia</th>\n",
       "      <td>7.03</td>\n",
       "      <td>9.64</td>\n",
       "    </tr>\n",
       "    <tr>\n",
       "      <th>Lithuania</th>\n",
       "      <td>5.78</td>\n",
       "      <td>7.86</td>\n",
       "    </tr>\n",
       "    <tr>\n",
       "      <th>Luxembourg</th>\n",
       "      <td>4.73</td>\n",
       "      <td>6.29</td>\n",
       "    </tr>\n",
       "    <tr>\n",
       "      <th>Malta</th>\n",
       "      <td>6.80</td>\n",
       "      <td>4.70</td>\n",
       "    </tr>\n",
       "    <tr>\n",
       "      <th>Netherlands</th>\n",
       "      <td>3.90</td>\n",
       "      <td>6.01</td>\n",
       "    </tr>\n",
       "    <tr>\n",
       "      <th>Poland</th>\n",
       "      <td>13.80</td>\n",
       "      <td>6.16</td>\n",
       "    </tr>\n",
       "    <tr>\n",
       "      <th>Portugal</th>\n",
       "      <td>7.65</td>\n",
       "      <td>11.10</td>\n",
       "    </tr>\n",
       "    <tr>\n",
       "      <th>Romania</th>\n",
       "      <td>7.27</td>\n",
       "      <td>5.90</td>\n",
       "    </tr>\n",
       "    <tr>\n",
       "      <th>Slovak Republic</th>\n",
       "      <td>13.40</td>\n",
       "      <td>9.67</td>\n",
       "    </tr>\n",
       "    <tr>\n",
       "      <th>Slovenia</th>\n",
       "      <td>5.95</td>\n",
       "      <td>8.00</td>\n",
       "    </tr>\n",
       "    <tr>\n",
       "      <th>Spain</th>\n",
       "      <td>8.45</td>\n",
       "      <td>19.60</td>\n",
       "    </tr>\n",
       "    <tr>\n",
       "      <th>Sweden</th>\n",
       "      <td>7.07</td>\n",
       "      <td>6.99</td>\n",
       "    </tr>\n",
       "    <tr>\n",
       "      <th>United Kingdom</th>\n",
       "      <td>5.35</td>\n",
       "      <td>4.81</td>\n",
       "    </tr>\n",
       "  </tbody>\n",
       "</table>\n",
       "</div>"
      ],
      "text/plain": [
       "                 2006_desemprego  2016_desemprego\n",
       "country                                          \n",
       "Austria                     5.24             6.01\n",
       "Belgium                     8.25             7.83\n",
       "Bulgaria                    8.95             7.57\n",
       "Croatia                    11.10            13.10\n",
       "Cyprus                      4.54            12.90\n",
       "Czech Republic              7.15             3.95\n",
       "Denmark                     3.90             6.18\n",
       "Estonia                     5.91             6.76\n",
       "Finland                     7.72             8.82\n",
       "France                      8.45            10.10\n",
       "Germany                    10.30             4.12\n",
       "Greece                      9.01            23.50\n",
       "Hungary                     7.49             5.11\n",
       "Ireland                     4.41             8.37\n",
       "Italy                       6.78            11.70\n",
       "Latvia                      7.03             9.64\n",
       "Lithuania                   5.78             7.86\n",
       "Luxembourg                  4.73             6.29\n",
       "Malta                       6.80             4.70\n",
       "Netherlands                 3.90             6.01\n",
       "Poland                     13.80             6.16\n",
       "Portugal                    7.65            11.10\n",
       "Romania                     7.27             5.90\n",
       "Slovak Republic            13.40             9.67\n",
       "Slovenia                    5.95             8.00\n",
       "Spain                       8.45            19.60\n",
       "Sweden                      7.07             6.99\n",
       "United Kingdom              5.35             4.81"
      ]
     },
     "execution_count": 284,
     "metadata": {},
     "output_type": "execute_result"
    }
   ],
   "source": [
    "#Tabela quantidade de refugiados nos anos\n",
    "sm_pop_refg=df1.join(df2, how=\"inner\")\n",
    "sm_pop_refg"
   ]
  },
  {
   "cell_type": "code",
   "execution_count": 285,
   "metadata": {},
   "outputs": [
    {
     "data": {
      "text/html": [
       "<div>\n",
       "<style scoped>\n",
       "    .dataframe tbody tr th:only-of-type {\n",
       "        vertical-align: middle;\n",
       "    }\n",
       "\n",
       "    .dataframe tbody tr th {\n",
       "        vertical-align: top;\n",
       "    }\n",
       "\n",
       "    .dataframe thead th {\n",
       "        text-align: right;\n",
       "    }\n",
       "</style>\n",
       "<table border=\"1\" class=\"dataframe\">\n",
       "  <thead>\n",
       "    <tr style=\"text-align: right;\">\n",
       "      <th></th>\n",
       "      <th>2006_desemprego</th>\n",
       "      <th>2016_desemprego</th>\n",
       "    </tr>\n",
       "  </thead>\n",
       "  <tbody>\n",
       "    <tr>\n",
       "      <th>count</th>\n",
       "      <td>28.0</td>\n",
       "      <td>28.0</td>\n",
       "    </tr>\n",
       "    <tr>\n",
       "      <th>mean</th>\n",
       "      <td>7.4</td>\n",
       "      <td>8.7</td>\n",
       "    </tr>\n",
       "    <tr>\n",
       "      <th>std</th>\n",
       "      <td>2.5</td>\n",
       "      <td>4.4</td>\n",
       "    </tr>\n",
       "    <tr>\n",
       "      <th>min</th>\n",
       "      <td>3.9</td>\n",
       "      <td>4.0</td>\n",
       "    </tr>\n",
       "    <tr>\n",
       "      <th>25%</th>\n",
       "      <td>5.7</td>\n",
       "      <td>6.0</td>\n",
       "    </tr>\n",
       "    <tr>\n",
       "      <th>50%</th>\n",
       "      <td>7.1</td>\n",
       "      <td>7.7</td>\n",
       "    </tr>\n",
       "    <tr>\n",
       "      <th>75%</th>\n",
       "      <td>8.4</td>\n",
       "      <td>9.8</td>\n",
       "    </tr>\n",
       "    <tr>\n",
       "      <th>max</th>\n",
       "      <td>13.8</td>\n",
       "      <td>23.5</td>\n",
       "    </tr>\n",
       "  </tbody>\n",
       "</table>\n",
       "</div>"
      ],
      "text/plain": [
       "       2006_desemprego  2016_desemprego\n",
       "count             28.0             28.0\n",
       "mean               7.4              8.7\n",
       "std                2.5              4.4\n",
       "min                3.9              4.0\n",
       "25%                5.7              6.0\n",
       "50%                7.1              7.7\n",
       "75%                8.4              9.8\n",
       "max               13.8             23.5"
      ]
     },
     "execution_count": 285,
     "metadata": {},
     "output_type": "execute_result"
    }
   ],
   "source": [
    "sm_pop_refg.describe().round(decimals=1)"
   ]
  },
  {
   "cell_type": "code",
   "execution_count": 286,
   "metadata": {},
   "outputs": [
    {
     "name": "stdout",
     "output_type": "stream",
     "text": [
      "Amplitude da classe: 3.7\n"
     ]
    }
   ],
   "source": [
    "#Amplitude dos refugiados dos países da união europeia\n",
    "\n",
    "n=math.sqrt(len(unply_2006))\n",
    "max_2016 = unply_2016.max()\n",
    "min_2006 = unply_2006.min()\n",
    "amplitude=(max_2016-min_2006)/n\n",
    "print('Amplitude da classe:', amplitude.round(decimals=2))"
   ]
  },
  {
   "cell_type": "code",
   "execution_count": 287,
   "metadata": {},
   "outputs": [],
   "source": [
    "#Criando faixa de 100000\n",
    "int4= int(min_2006)\n",
    "int5= int(max_2016)\n",
    "int6= int(amplitude)\n",
    "\n",
    "faixa = np.arange(min_2006, 30, amplitude)"
   ]
  },
  {
   "cell_type": "code",
   "execution_count": 288,
   "metadata": {},
   "outputs": [],
   "source": [
    "cat_2006 = pd.cut(unply_2006, faixa, False)\n",
    "ut1 = (cat_2006.value_counts(True)*100).round(decimals=1)\n",
    "\n",
    "cat_2016 = pd.cut(unply_2016, faixa, False)\n",
    "ut2 = (cat_2016.value_counts(True)*100).round(decimals=1)"
   ]
  },
  {
   "cell_type": "code",
   "execution_count": 289,
   "metadata": {},
   "outputs": [
    {
     "name": "stdout",
     "output_type": "stream",
     "text": [
      "Frequências relativas:\n",
      "                  2006_desemprego  2016_desemprego\n",
      "[3.9, 7.604)                 60.7             50.0\n",
      "[7.604, 11.308)              32.1             32.1\n",
      "[11.308, 15.012)              7.1             10.7\n",
      "[15.012, 18.716)              0.0              0.0\n",
      "[18.716, 22.42)               0.0              3.6\n",
      "[22.42, 26.124)               0.0              3.6\n",
      "[26.124, 29.828)              0.0              0.0\n"
     ]
    }
   ],
   "source": [
    "print('Frequências relativas:')\n",
    "tab = pd.DataFrame([ut1,ut2]).T\n",
    "print(tab) "
   ]
  },
  {
   "cell_type": "code",
   "execution_count": 290,
   "metadata": {},
   "outputs": [
    {
     "data": {
      "image/png": "[encoded data removed]",
      "text/plain": [
       "<Figure size 1296x360 with 2 Axes>"
      ]
     },
     "metadata": {
      "needs_background": "light"
     },
     "output_type": "display_data"
    }
   ],
   "source": [
    "#Histogramas dos anos de 2006, 2015, 2016\n",
    "\n",
    "fig = plt.figure(figsize=(18, 5))\n",
    "plt.subplot(131)\n",
    "plot = unply_2006.plot.hist(bins=faixa,title='HISTOGRAMA - 2006', density=True, color='green')\n",
    "plt.ylabel('Densidade')\n",
    "plt.xlabel('Desemprego UE')\n",
    "plt.grid(True)\n",
    "\n",
    "plt.subplot(132)\n",
    "plot = unply_2016.plot.hist(bins=faixa,title='HISTOGRAMA - 2016', density=True, color='cyan')\n",
    "plt.ylabel('Densidade')\n",
    "plt.xlabel('Desemprego UE')\n",
    "plt.grid(True)\n",
    "\n",
    "plt.tight_layout()\n",
    "plt.show()"
   ]
  },
  {
   "cell_type": "code",
   "execution_count": 291,
   "metadata": {},
   "outputs": [
    {
     "name": "stdout",
     "output_type": "stream",
     "text": [
      "Média de desempregos UE em 2006: 7.37\n",
      "\n",
      "Média de desempregos UE em 2016: 8.67\n",
      "\n",
      "\n",
      "Média de desempregos UE em 2006: 7.11\n",
      "\n",
      "Média de desempregos UE em 2016: 7.7\n"
     ]
    }
   ],
   "source": [
    "#Medidas de posição\n",
    "\n",
    "\n",
    "print('Média de desempregos UE em 2006:', round(unply_2006.mean(), 2))\n",
    "print()\n",
    "print('Média de desempregos UE em 2016:', round(unply_2016.mean(), 2))\n",
    "print()\n",
    "print()\n",
    "print('Média de desempregos UE em 2006:', unply_2006.median())\n",
    "print()\n",
    "print('Média de desempregos UE em 2016:', unply_2016.median())"
   ]
  },
  {
   "cell_type": "markdown",
   "metadata": {},
   "source": [
    "## Desemprego Mundo"
   ]
  },
  {
   "cell_type": "code",
   "execution_count": 292,
   "metadata": {},
   "outputs": [],
   "source": [
    "#Exploração da população refugiada nos anos selecionados (Resto do Mundo)\n",
    "#Começando com o palpite de uma amplitude\n",
    "\n",
    "df1 = df_2006.loc[(df_2006[\"UE\"]==\"Não\"),['2006_desemprego']]\n",
    "df2 = df_2016.loc[(df_2016[\"UE\"]==\"Não\"),['2016_desemprego']]\n",
    "\n",
    "unply_2006= df1['2006_desemprego']\n",
    "unply_2016= df2['2016_desemprego']"
   ]
  },
  {
   "cell_type": "code",
   "execution_count": 293,
   "metadata": {},
   "outputs": [
    {
     "data": {
      "text/html": [
       "<div>\n",
       "<style scoped>\n",
       "    .dataframe tbody tr th:only-of-type {\n",
       "        vertical-align: middle;\n",
       "    }\n",
       "\n",
       "    .dataframe tbody tr th {\n",
       "        vertical-align: top;\n",
       "    }\n",
       "\n",
       "    .dataframe thead th {\n",
       "        text-align: right;\n",
       "    }\n",
       "</style>\n",
       "<table border=\"1\" class=\"dataframe\">\n",
       "  <thead>\n",
       "    <tr style=\"text-align: right;\">\n",
       "      <th></th>\n",
       "      <th>2006_desemprego</th>\n",
       "      <th>2016_desemprego</th>\n",
       "    </tr>\n",
       "    <tr>\n",
       "      <th>country</th>\n",
       "      <th></th>\n",
       "      <th></th>\n",
       "    </tr>\n",
       "  </thead>\n",
       "  <tbody>\n",
       "    <tr>\n",
       "      <th>Afghanistan</th>\n",
       "      <td>NaN</td>\n",
       "      <td>NaN</td>\n",
       "    </tr>\n",
       "    <tr>\n",
       "      <th>Albania</th>\n",
       "      <td>NaN</td>\n",
       "      <td>15.20</td>\n",
       "    </tr>\n",
       "    <tr>\n",
       "      <th>Algeria</th>\n",
       "      <td>12.30</td>\n",
       "      <td>10.20</td>\n",
       "    </tr>\n",
       "    <tr>\n",
       "      <th>Angola</th>\n",
       "      <td>NaN</td>\n",
       "      <td>NaN</td>\n",
       "    </tr>\n",
       "    <tr>\n",
       "      <th>Antigua and Barbuda</th>\n",
       "      <td>NaN</td>\n",
       "      <td>NaN</td>\n",
       "    </tr>\n",
       "    <tr>\n",
       "      <th>Argentina</th>\n",
       "      <td>10.10</td>\n",
       "      <td>NaN</td>\n",
       "    </tr>\n",
       "    <tr>\n",
       "      <th>Armenia</th>\n",
       "      <td>NaN</td>\n",
       "      <td>17.60</td>\n",
       "    </tr>\n",
       "    <tr>\n",
       "      <th>Australia</th>\n",
       "      <td>4.78</td>\n",
       "      <td>5.71</td>\n",
       "    </tr>\n",
       "    <tr>\n",
       "      <th>Azerbaijan</th>\n",
       "      <td>6.62</td>\n",
       "      <td>5.00</td>\n",
       "    </tr>\n",
       "    <tr>\n",
       "      <th>Bahamas</th>\n",
       "      <td>7.54</td>\n",
       "      <td>12.70</td>\n",
       "    </tr>\n",
       "  </tbody>\n",
       "</table>\n",
       "</div>"
      ],
      "text/plain": [
       "                     2006_desemprego  2016_desemprego\n",
       "country                                              \n",
       "Afghanistan                      NaN              NaN\n",
       "Albania                          NaN            15.20\n",
       "Algeria                        12.30            10.20\n",
       "Angola                           NaN              NaN\n",
       "Antigua and Barbuda              NaN              NaN\n",
       "Argentina                      10.10              NaN\n",
       "Armenia                          NaN            17.60\n",
       "Australia                       4.78             5.71\n",
       "Azerbaijan                      6.62             5.00\n",
       "Bahamas                         7.54            12.70"
      ]
     },
     "execution_count": 293,
     "metadata": {},
     "output_type": "execute_result"
    }
   ],
   "source": [
    "#Tabela quantidade de refugiados nos anos\n",
    "sm_pop_refg=df1.join(df2, how=\"inner\")\n",
    "sm_pop_refg.head(10)"
   ]
  },
  {
   "cell_type": "code",
   "execution_count": 294,
   "metadata": {},
   "outputs": [
    {
     "data": {
      "text/html": [
       "<div>\n",
       "<style scoped>\n",
       "    .dataframe tbody tr th:only-of-type {\n",
       "        vertical-align: middle;\n",
       "    }\n",
       "\n",
       "    .dataframe tbody tr th {\n",
       "        vertical-align: top;\n",
       "    }\n",
       "\n",
       "    .dataframe thead th {\n",
       "        text-align: right;\n",
       "    }\n",
       "</style>\n",
       "<table border=\"1\" class=\"dataframe\">\n",
       "  <thead>\n",
       "    <tr style=\"text-align: right;\">\n",
       "      <th></th>\n",
       "      <th>2006_desemprego</th>\n",
       "      <th>2016_desemprego</th>\n",
       "    </tr>\n",
       "  </thead>\n",
       "  <tbody>\n",
       "    <tr>\n",
       "      <th>count</th>\n",
       "      <td>63.0</td>\n",
       "      <td>72.0</td>\n",
       "    </tr>\n",
       "    <tr>\n",
       "      <th>mean</th>\n",
       "      <td>8.1</td>\n",
       "      <td>8.0</td>\n",
       "    </tr>\n",
       "    <tr>\n",
       "      <th>std</th>\n",
       "      <td>6.0</td>\n",
       "      <td>6.1</td>\n",
       "    </tr>\n",
       "    <tr>\n",
       "      <th>min</th>\n",
       "      <td>0.6</td>\n",
       "      <td>0.1</td>\n",
       "    </tr>\n",
       "    <tr>\n",
       "      <th>25%</th>\n",
       "      <td>4.1</td>\n",
       "      <td>4.0</td>\n",
       "    </tr>\n",
       "    <tr>\n",
       "      <th>50%</th>\n",
       "      <td>6.8</td>\n",
       "      <td>5.6</td>\n",
       "    </tr>\n",
       "    <tr>\n",
       "      <th>75%</th>\n",
       "      <td>9.9</td>\n",
       "      <td>9.8</td>\n",
       "    </tr>\n",
       "    <tr>\n",
       "      <th>max</th>\n",
       "      <td>31.1</td>\n",
       "      <td>26.9</td>\n",
       "    </tr>\n",
       "  </tbody>\n",
       "</table>\n",
       "</div>"
      ],
      "text/plain": [
       "       2006_desemprego  2016_desemprego\n",
       "count             63.0             72.0\n",
       "mean               8.1              8.0\n",
       "std                6.0              6.1\n",
       "min                0.6              0.1\n",
       "25%                4.1              4.0\n",
       "50%                6.8              5.6\n",
       "75%                9.9              9.8\n",
       "max               31.1             26.9"
      ]
     },
     "execution_count": 294,
     "metadata": {},
     "output_type": "execute_result"
    }
   ],
   "source": [
    "sm_pop_refg.describe().round(decimals=1)"
   ]
  },
  {
   "cell_type": "code",
   "execution_count": 295,
   "metadata": {},
   "outputs": [
    {
     "name": "stdout",
     "output_type": "stream",
     "text": [
      "Amplitude da classe: 2.23\n"
     ]
    }
   ],
   "source": [
    "#Amplitude dos refugiados dos países da união europeia\n",
    "\n",
    "n=math.sqrt(len(unply_2006))\n",
    "max_2016 = unply_2016.max()\n",
    "min_2006 = unply_2006.min()\n",
    "amplitude=(max_2016-min_2006)/n\n",
    "print('Amplitude da classe:', amplitude.round(decimals=2))"
   ]
  },
  {
   "cell_type": "code",
   "execution_count": 296,
   "metadata": {},
   "outputs": [],
   "source": [
    "#Criando faixa de 100000\n",
    "\n",
    "faixa = np.arange(min_2006, 33, amplitude)"
   ]
  },
  {
   "cell_type": "code",
   "execution_count": 297,
   "metadata": {},
   "outputs": [],
   "source": [
    "cat_2006 = pd.cut(unply_2006, faixa, False)\n",
    "ut1 = (cat_2006.value_counts(True)*100).round(decimals=1)\n",
    "\n",
    "cat_2016 = pd.cut(unply_2016, faixa, False)\n",
    "ut2 = (cat_2016.value_counts(True)*100).round(decimals=1)"
   ]
  },
  {
   "cell_type": "code",
   "execution_count": 298,
   "metadata": {},
   "outputs": [
    {
     "name": "stdout",
     "output_type": "stream",
     "text": [
      "Frequências relativas:\n",
      "                  2006_desemprego  2016_desemprego\n",
      "[0.582, 2.814)                6.3              8.5\n",
      "[2.814, 5.047)               28.6             35.2\n",
      "[5.047, 7.279)               17.5             18.3\n",
      "[7.279, 9.511)               20.6              9.9\n",
      "[9.511, 11.743)              12.7              7.0\n",
      "[11.743, 13.976)              3.2              5.6\n",
      "[13.976, 16.208)              3.2              5.6\n",
      "[16.208, 18.44)               1.6              2.8\n",
      "[18.44, 20.672)               0.0              0.0\n",
      "[20.672, 22.905)              1.6              1.4\n",
      "[22.905, 25.137)              1.6              1.4\n",
      "[25.137, 27.369)              0.0              4.2\n",
      "[27.369, 29.601)              1.6              0.0\n",
      "[29.601, 31.834)              1.6              0.0\n"
     ]
    }
   ],
   "source": [
    "print('Frequências relativas:')\n",
    "tab = pd.DataFrame([ut1,ut2]).T\n",
    "print(tab) "
   ]
  },
  {
   "cell_type": "code",
   "execution_count": 299,
   "metadata": {},
   "outputs": [
    {
     "data": {
      "image/png": "[encoded data removed]",
      "text/plain": [
       "<Figure size 1296x360 with 2 Axes>"
      ]
     },
     "metadata": {
      "needs_background": "light"
     },
     "output_type": "display_data"
    }
   ],
   "source": [
    "#Histogramas dos anos de 2006, 2015, 2016\n",
    "\n",
    "fig = plt.figure(figsize=(18, 5))\n",
    "plt.subplot(131)\n",
    "plot = unply_2006.plot.hist(bins=faixa,title='HISTOGRAMA - 2006', density=True, color='red')\n",
    "plt.ylabel('Densidade')\n",
    "plt.xlabel('Desemprego Mundo')\n",
    "plt.grid(True)\n",
    "\n",
    "plt.subplot(132)\n",
    "plot = unply_2016.plot.hist(bins=faixa,title='HISTOGRAMA - 2016', density=True, color='gold')\n",
    "plt.ylabel('Densidade')\n",
    "plt.xlabel('Desemprego Mundo')\n",
    "plt.grid(True)\n",
    "\n",
    "plt.tight_layout()\n",
    "plt.show()"
   ]
  },
  {
   "cell_type": "code",
   "execution_count": 300,
   "metadata": {},
   "outputs": [
    {
     "name": "stdout",
     "output_type": "stream",
     "text": [
      "Média de desempregos mundo em 2006: 8.12\n",
      "\n",
      "Média de desempregos mundo em 2016: 7.99\n",
      "\n",
      "Média de desempregos mundo em 2006: 6.81\n",
      "\n",
      "Média de desempregos mundo em 2016: 5.605\n"
     ]
    }
   ],
   "source": [
    "#Medidas de posição\n",
    "\n",
    "\n",
    "print('Média de desempregos mundo em 2006:', round(unply_2006.mean(), 2))\n",
    "print()\n",
    "print('Média de desempregos mundo em 2016:', round(unply_2016.mean(), 2))\n",
    "print()\n",
    "print('Média de desempregos mundo em 2006:', unply_2006.median())\n",
    "print()\n",
    "print('Média de desempregos mundo em 2016:', unply_2016.median())"
   ]
  },
  {
   "cell_type": "markdown",
   "metadata": {},
   "source": [
    "## Violência União Europeia"
   ]
  },
  {
   "cell_type": "code",
   "execution_count": 301,
   "metadata": {},
   "outputs": [],
   "source": [
    "#Exploração da população refugiada nos anos selecionados (Resto do Mundo)\n",
    "#Começando com o palpite de uma amplitude\n",
    "\n",
    "df1 = df_2006.loc[(df_2006[\"UE\"]==\"Sim\"),['2006_assassinatos']]\n",
    "df2 = df_2016.loc[(df_2016[\"UE\"]==\"Sim\"),['2016_assassinatos']]\n",
    "\n",
    "murder_2006= df1['2006_assassinatos']\n",
    "murder_2016= df2['2016_assassinatos']"
   ]
  },
  {
   "cell_type": "code",
   "execution_count": 302,
   "metadata": {},
   "outputs": [
    {
     "data": {
      "text/html": [
       "<div>\n",
       "<style scoped>\n",
       "    .dataframe tbody tr th:only-of-type {\n",
       "        vertical-align: middle;\n",
       "    }\n",
       "\n",
       "    .dataframe tbody tr th {\n",
       "        vertical-align: top;\n",
       "    }\n",
       "\n",
       "    .dataframe thead th {\n",
       "        text-align: right;\n",
       "    }\n",
       "</style>\n",
       "<table border=\"1\" class=\"dataframe\">\n",
       "  <thead>\n",
       "    <tr style=\"text-align: right;\">\n",
       "      <th></th>\n",
       "      <th>2006_assassinatos</th>\n",
       "      <th>2016_assassinatos</th>\n",
       "    </tr>\n",
       "    <tr>\n",
       "      <th>country</th>\n",
       "      <th></th>\n",
       "      <th></th>\n",
       "    </tr>\n",
       "  </thead>\n",
       "  <tbody>\n",
       "    <tr>\n",
       "      <th>Austria</th>\n",
       "      <td>77.6</td>\n",
       "      <td>68.0</td>\n",
       "    </tr>\n",
       "    <tr>\n",
       "      <th>Belgium</th>\n",
       "      <td>172.0</td>\n",
       "      <td>153.0</td>\n",
       "    </tr>\n",
       "    <tr>\n",
       "      <th>Bulgaria</th>\n",
       "      <td>251.0</td>\n",
       "      <td>195.0</td>\n",
       "    </tr>\n",
       "    <tr>\n",
       "      <th>Croatia</th>\n",
       "      <td>86.4</td>\n",
       "      <td>63.1</td>\n",
       "    </tr>\n",
       "    <tr>\n",
       "      <th>Cyprus</th>\n",
       "      <td>17.9</td>\n",
       "      <td>18.0</td>\n",
       "    </tr>\n",
       "  </tbody>\n",
       "</table>\n",
       "</div>"
      ],
      "text/plain": [
       "          2006_assassinatos  2016_assassinatos\n",
       "country                                       \n",
       "Austria                77.6               68.0\n",
       "Belgium               172.0              153.0\n",
       "Bulgaria              251.0              195.0\n",
       "Croatia                86.4               63.1\n",
       "Cyprus                 17.9               18.0"
      ]
     },
     "execution_count": 302,
     "metadata": {},
     "output_type": "execute_result"
    }
   ],
   "source": [
    "#Tabela quantidade de refugiados nos anos\n",
    "sm_pop_refg=df1.join(df2, how=\"inner\")\n",
    "sm_pop_refg.head()"
   ]
  },
  {
   "cell_type": "code",
   "execution_count": 303,
   "metadata": {},
   "outputs": [
    {
     "data": {
      "text/html": [
       "<div>\n",
       "<style scoped>\n",
       "    .dataframe tbody tr th:only-of-type {\n",
       "        vertical-align: middle;\n",
       "    }\n",
       "\n",
       "    .dataframe tbody tr th {\n",
       "        vertical-align: top;\n",
       "    }\n",
       "\n",
       "    .dataframe thead th {\n",
       "        text-align: right;\n",
       "    }\n",
       "</style>\n",
       "<table border=\"1\" class=\"dataframe\">\n",
       "  <thead>\n",
       "    <tr style=\"text-align: right;\">\n",
       "      <th></th>\n",
       "      <th>2006_assassinatos</th>\n",
       "      <th>2016_assassinatos</th>\n",
       "    </tr>\n",
       "  </thead>\n",
       "  <tbody>\n",
       "    <tr>\n",
       "      <th>count</th>\n",
       "      <td>28.0</td>\n",
       "      <td>28.0</td>\n",
       "    </tr>\n",
       "    <tr>\n",
       "      <th>mean</th>\n",
       "      <td>264.6</td>\n",
       "      <td>209.7</td>\n",
       "    </tr>\n",
       "    <tr>\n",
       "      <th>std</th>\n",
       "      <td>259.2</td>\n",
       "      <td>211.2</td>\n",
       "    </tr>\n",
       "    <tr>\n",
       "      <th>min</th>\n",
       "      <td>5.5</td>\n",
       "      <td>5.0</td>\n",
       "    </tr>\n",
       "    <tr>\n",
       "      <th>25%</th>\n",
       "      <td>84.2</td>\n",
       "      <td>66.8</td>\n",
       "    </tr>\n",
       "    <tr>\n",
       "      <th>50%</th>\n",
       "      <td>180.0</td>\n",
       "      <td>144.5</td>\n",
       "    </tr>\n",
       "    <tr>\n",
       "      <th>75%</th>\n",
       "      <td>373.0</td>\n",
       "      <td>237.0</td>\n",
       "    </tr>\n",
       "    <tr>\n",
       "      <th>max</th>\n",
       "      <td>971.0</td>\n",
       "      <td>742.0</td>\n",
       "    </tr>\n",
       "  </tbody>\n",
       "</table>\n",
       "</div>"
      ],
      "text/plain": [
       "       2006_assassinatos  2016_assassinatos\n",
       "count               28.0               28.0\n",
       "mean               264.6              209.7\n",
       "std                259.2              211.2\n",
       "min                  5.5                5.0\n",
       "25%                 84.2               66.8\n",
       "50%                180.0              144.5\n",
       "75%                373.0              237.0\n",
       "max                971.0              742.0"
      ]
     },
     "execution_count": 303,
     "metadata": {},
     "output_type": "execute_result"
    }
   ],
   "source": [
    "sm_pop_refg.describe().round(decimals=1)"
   ]
  },
  {
   "cell_type": "code",
   "execution_count": 304,
   "metadata": {},
   "outputs": [
    {
     "name": "stdout",
     "output_type": "stream",
     "text": [
      "Amplitude da classe: 62.47\n"
     ]
    }
   ],
   "source": [
    "#Amplitude dos refugiados dos países da união europeia\n",
    "\n",
    "n=math.sqrt(len(refg_2006))\n",
    "max_2016 = murder_2016.max()\n",
    "min_2006 = murder_2006.min()\n",
    "amplitude=(max_2016-min_2006)/n\n",
    "print('Amplitude da classe:', amplitude.round(decimals=2))"
   ]
  },
  {
   "cell_type": "code",
   "execution_count": 305,
   "metadata": {},
   "outputs": [],
   "source": [
    "#Criando faixa de 100000\n",
    "int4= int(min_2006)\n",
    "int5= int(max_2016)\n",
    "int6= int(amplitude)\n",
    "\n",
    "faixa = np.arange(min_2006, 800, amplitude)"
   ]
  },
  {
   "cell_type": "code",
   "execution_count": 306,
   "metadata": {},
   "outputs": [],
   "source": [
    "cat_2006 = pd.cut(murder_2006, faixa, False)\n",
    "ut1 = (cat_2006.value_counts(True)*100).round(decimals=1)\n",
    "\n",
    "cat_2016 = pd.cut(murder_2016, faixa, False)\n",
    "ut2 = (cat_2016.value_counts(True)*100).round(decimals=1)"
   ]
  },
  {
   "cell_type": "code",
   "execution_count": 307,
   "metadata": {},
   "outputs": [
    {
     "name": "stdout",
     "output_type": "stream",
     "text": [
      "Frequências relativas:\n",
      "                    2006_assassinatos  2016_assassinatos\n",
      "[5.48, 67.951)                   23.1               22.2\n",
      "[67.951, 130.422)                19.2               18.5\n",
      "[130.422, 192.892)               23.1               22.2\n",
      "[192.892, 255.363)               11.5               11.1\n",
      "[255.363, 317.834)                0.0                0.0\n",
      "[317.834, 380.305)                3.8                3.7\n",
      "[380.305, 442.776)                3.8                3.7\n",
      "[442.776, 505.246)                3.8                3.7\n",
      "[505.246, 567.717)                0.0                3.7\n",
      "[567.717, 630.188)                7.7                3.7\n",
      "[630.188, 692.659)                3.8                3.7\n",
      "[692.659, 755.13)                 0.0                3.7\n"
     ]
    }
   ],
   "source": [
    "print('Frequências relativas:')\n",
    "tab = pd.DataFrame([ut1,ut2]).T\n",
    "print(tab) "
   ]
  },
  {
   "cell_type": "code",
   "execution_count": 308,
   "metadata": {},
   "outputs": [
    {
     "data": {
      "image/png": "[encoded data removed]",
      "text/plain": [
       "<Figure size 1296x360 with 2 Axes>"
      ]
     },
     "metadata": {
      "needs_background": "light"
     },
     "output_type": "display_data"
    }
   ],
   "source": [
    "#Histogramas dos anos de 2006, 2015, 2016\n",
    "\n",
    "fig = plt.figure(figsize=(18, 5))\n",
    "plt.subplot(131)\n",
    "plot = murder_2006.plot.hist(bins=faixa,title='HISTOGRAMA - 2006', density=True, color='green')\n",
    "plt.ylabel('Densidade')\n",
    "plt.xlabel('Assassinatos União Europeia')\n",
    "plt.grid(True)\n",
    "\n",
    "plt.subplot(132)\n",
    "plot = murder_2016.plot.hist(bins=faixa,title='HISTOGRAMA - 2016', density=True, color='cyan')\n",
    "plt.ylabel('Densidade')\n",
    "plt.xlabel('Assassinatos União Europeia')\n",
    "plt.grid(True)\n",
    "\n",
    "plt.tight_layout()\n",
    "plt.show()"
   ]
  },
  {
   "cell_type": "code",
   "execution_count": 309,
   "metadata": {},
   "outputs": [
    {
     "name": "stdout",
     "output_type": "stream",
     "text": [
      "Média de assassinatos UE em 2006: 264.55\n",
      "\n",
      "Média de assassinatos UE em 2016: 209.66\n",
      "\n",
      "Média de assassinatos UE em 2006: 180.0\n",
      "\n",
      "Média de assassinatos UE em 2016: 144.5\n"
     ]
    }
   ],
   "source": [
    "#Medidas de posição\n",
    "\n",
    "print('Média de assassinatos UE em 2006:', round(murder_2006.mean(), 2))\n",
    "print()\n",
    "print('Média de assassinatos UE em 2016:', round(murder_2016.mean(), 2))\n",
    "print()\n",
    "print('Média de assassinatos UE em 2006:', murder_2006.median())\n",
    "print()\n",
    "print('Média de assassinatos UE em 2016:', murder_2016.median())"
   ]
  },
  {
   "cell_type": "markdown",
   "metadata": {},
   "source": [
    "## Violência Mundo"
   ]
  },
  {
   "cell_type": "code",
   "execution_count": 310,
   "metadata": {},
   "outputs": [],
   "source": [
    "#Exploração da população refugiada nos anos selecionados (Resto do Mundo)\n",
    "#Começando com o palpite de uma amplitude\n",
    "\n",
    "df1 = df_2006.loc[(df_2006[\"UE\"]==\"Não\"),['2006_assassinatos']]\n",
    "df2 = df_2016.loc[(df_2016[\"UE\"]==\"Não\"),['2016_assassinatos']]\n",
    "\n",
    "murder_2006= df1['2006_assassinatos']\n",
    "murder_2016= df2['2016_assassinatos']"
   ]
  },
  {
   "cell_type": "code",
   "execution_count": 311,
   "metadata": {},
   "outputs": [
    {
     "data": {
      "text/html": [
       "<div>\n",
       "<style scoped>\n",
       "    .dataframe tbody tr th:only-of-type {\n",
       "        vertical-align: middle;\n",
       "    }\n",
       "\n",
       "    .dataframe tbody tr th {\n",
       "        vertical-align: top;\n",
       "    }\n",
       "\n",
       "    .dataframe thead th {\n",
       "        text-align: right;\n",
       "    }\n",
       "</style>\n",
       "<table border=\"1\" class=\"dataframe\">\n",
       "  <thead>\n",
       "    <tr style=\"text-align: right;\">\n",
       "      <th></th>\n",
       "      <th>2006_assassinatos</th>\n",
       "      <th>2016_assassinatos</th>\n",
       "    </tr>\n",
       "    <tr>\n",
       "      <th>country</th>\n",
       "      <th></th>\n",
       "      <th></th>\n",
       "    </tr>\n",
       "  </thead>\n",
       "  <tbody>\n",
       "    <tr>\n",
       "      <th>Afghanistan</th>\n",
       "      <td>4850.00</td>\n",
       "      <td>6270.00</td>\n",
       "    </tr>\n",
       "    <tr>\n",
       "      <th>Albania</th>\n",
       "      <td>82.90</td>\n",
       "      <td>69.50</td>\n",
       "    </tr>\n",
       "    <tr>\n",
       "      <th>Algeria</th>\n",
       "      <td>444.00</td>\n",
       "      <td>471.00</td>\n",
       "    </tr>\n",
       "    <tr>\n",
       "      <th>Angola</th>\n",
       "      <td>876.00</td>\n",
       "      <td>1090.00</td>\n",
       "    </tr>\n",
       "    <tr>\n",
       "      <th>Antigua and Barbuda</th>\n",
       "      <td>4.61</td>\n",
       "      <td>4.85</td>\n",
       "    </tr>\n",
       "  </tbody>\n",
       "</table>\n",
       "</div>"
      ],
      "text/plain": [
       "                     2006_assassinatos  2016_assassinatos\n",
       "country                                                  \n",
       "Afghanistan                    4850.00            6270.00\n",
       "Albania                          82.90              69.50\n",
       "Algeria                         444.00             471.00\n",
       "Angola                          876.00            1090.00\n",
       "Antigua and Barbuda               4.61               4.85"
      ]
     },
     "execution_count": 311,
     "metadata": {},
     "output_type": "execute_result"
    }
   ],
   "source": [
    "#Tabela quantidade de refugiados nos anos\n",
    "sm_pop_refg=df1.join(df2, how=\"inner\")\n",
    "sm_pop_refg.head()"
   ]
  },
  {
   "cell_type": "code",
   "execution_count": 312,
   "metadata": {},
   "outputs": [
    {
     "data": {
      "text/html": [
       "<div>\n",
       "<style scoped>\n",
       "    .dataframe tbody tr th:only-of-type {\n",
       "        vertical-align: middle;\n",
       "    }\n",
       "\n",
       "    .dataframe tbody tr th {\n",
       "        vertical-align: top;\n",
       "    }\n",
       "\n",
       "    .dataframe thead th {\n",
       "        text-align: right;\n",
       "    }\n",
       "</style>\n",
       "<table border=\"1\" class=\"dataframe\">\n",
       "  <thead>\n",
       "    <tr style=\"text-align: right;\">\n",
       "      <th></th>\n",
       "      <th>2006_assassinatos</th>\n",
       "      <th>2016_assassinatos</th>\n",
       "    </tr>\n",
       "  </thead>\n",
       "  <tbody>\n",
       "    <tr>\n",
       "      <th>count</th>\n",
       "      <td>139.0</td>\n",
       "      <td>139.0</td>\n",
       "    </tr>\n",
       "    <tr>\n",
       "      <th>mean</th>\n",
       "      <td>2774.8</td>\n",
       "      <td>2730.8</td>\n",
       "    </tr>\n",
       "    <tr>\n",
       "      <th>std</th>\n",
       "      <td>7949.0</td>\n",
       "      <td>7670.5</td>\n",
       "    </tr>\n",
       "    <tr>\n",
       "      <th>min</th>\n",
       "      <td>2.5</td>\n",
       "      <td>2.3</td>\n",
       "    </tr>\n",
       "    <tr>\n",
       "      <th>25%</th>\n",
       "      <td>83.2</td>\n",
       "      <td>110.5</td>\n",
       "    </tr>\n",
       "    <tr>\n",
       "      <th>50%</th>\n",
       "      <td>387.0</td>\n",
       "      <td>421.0</td>\n",
       "    </tr>\n",
       "    <tr>\n",
       "      <th>75%</th>\n",
       "      <td>1205.0</td>\n",
       "      <td>1345.0</td>\n",
       "    </tr>\n",
       "    <tr>\n",
       "      <th>max</th>\n",
       "      <td>54900.0</td>\n",
       "      <td>59800.0</td>\n",
       "    </tr>\n",
       "  </tbody>\n",
       "</table>\n",
       "</div>"
      ],
      "text/plain": [
       "       2006_assassinatos  2016_assassinatos\n",
       "count              139.0              139.0\n",
       "mean              2774.8             2730.8\n",
       "std               7949.0             7670.5\n",
       "min                  2.5                2.3\n",
       "25%                 83.2              110.5\n",
       "50%                387.0              421.0\n",
       "75%               1205.0             1345.0\n",
       "max              54900.0            59800.0"
      ]
     },
     "execution_count": 312,
     "metadata": {},
     "output_type": "execute_result"
    }
   ],
   "source": [
    "sm_pop_refg.describe().round(decimals=1)"
   ]
  },
  {
   "cell_type": "code",
   "execution_count": 313,
   "metadata": {},
   "outputs": [
    {
     "name": "stdout",
     "output_type": "stream",
     "text": [
      "Amplitude da classe: 5071.96\n"
     ]
    }
   ],
   "source": [
    "#Amplitude dos refugiados dos países da união europeia\n",
    "\n",
    "n=math.sqrt(len(refg_2006))\n",
    "max_2016 = murder_2016.max()\n",
    "min_2006 = murder_2006.min()\n",
    "amplitude=(max_2016-min_2006)/n\n",
    "print('Amplitude da classe:', amplitude.round(decimals=2))"
   ]
  },
  {
   "cell_type": "code",
   "execution_count": 314,
   "metadata": {},
   "outputs": [],
   "source": [
    "#Criando faixa\n",
    "faixa = np.arange(min_2006, 65000, amplitude)"
   ]
  },
  {
   "cell_type": "code",
   "execution_count": 315,
   "metadata": {},
   "outputs": [],
   "source": [
    "cat_2006 = pd.cut(murder_2006, faixa, False)\n",
    "ut1 = (cat_2006.value_counts(True)*100).round(decimals=1)\n",
    "\n",
    "cat_2016 = pd.cut(murder_2016, faixa, False)\n",
    "ut2 = (cat_2016.value_counts(True)*100).round(decimals=1)"
   ]
  },
  {
   "cell_type": "code",
   "execution_count": 316,
   "metadata": {},
   "outputs": [
    {
     "name": "stdout",
     "output_type": "stream",
     "text": [
      "Frequências relativas:\n",
      "                        2006_assassinatos  2016_assassinatos\n",
      "[2.51, 5074.467)                     89.2               89.9\n",
      "[5074.467, 10146.424)                 3.6                2.9\n",
      "[10146.424, 15218.381)                2.2                1.4\n",
      "[15218.381, 20290.338)                1.4                2.9\n",
      "[20290.338, 25362.295)                0.7                1.4\n",
      "[25362.295, 30434.251)                0.7                0.0\n",
      "[30434.251, 35506.208)                0.0                0.0\n",
      "[35506.208, 40578.165)                0.7                0.0\n",
      "[40578.165, 45650.122)                0.0                0.0\n",
      "[45650.122, 50722.079)                0.7                0.7\n",
      "[50722.079, 55794.036)                0.7                0.0\n",
      "[55794.036, 60865.993)                0.0                0.7\n"
     ]
    }
   ],
   "source": [
    "print('Frequências relativas:')\n",
    "tab = pd.DataFrame([ut1,ut2]).T\n",
    "print(tab) "
   ]
  },
  {
   "cell_type": "code",
   "execution_count": 317,
   "metadata": {},
   "outputs": [
    {
     "data": {
      "image/png": "[encoded data removed]",
      "text/plain": [
       "<Figure size 1296x360 with 2 Axes>"
      ]
     },
     "metadata": {
      "needs_background": "light"
     },
     "output_type": "display_data"
    }
   ],
   "source": [
    "#Histogramas dos anos de 2006, 2015, 2016\n",
    "\n",
    "fig = plt.figure(figsize=(18, 5))\n",
    "plt.subplot(131)\n",
    "plot = murder_2006.plot.hist(bins=faixa,title='HISTOGRAMA - 2006', density=True, color='red')\n",
    "plt.ylabel('Densidade')\n",
    "plt.xlabel('Assassinatos Mundo')\n",
    "plt.grid(True)\n",
    "\n",
    "plt.subplot(132)\n",
    "plot = murder_2016.plot.hist(bins=faixa,title='HISTOGRAMA - 2016', density=True, color='gold')\n",
    "plt.ylabel('Densidade')\n",
    "plt.xlabel('Assassinatos Mundo')\n",
    "plt.grid(True)\n",
    "\n",
    "plt.tight_layout()\n",
    "plt.show()"
   ]
  },
  {
   "cell_type": "code",
   "execution_count": 318,
   "metadata": {},
   "outputs": [
    {
     "name": "stdout",
     "output_type": "stream",
     "text": [
      "Média de assassinatos mundo em 2006: 2774.77\n",
      "\n",
      "Média de assassinatos mundo em 2016: 2730.82\n",
      "\n",
      "Mediana de assassinatos mundo em 2006: 387.0\n",
      "\n",
      "Mediana de assassinatos mundo em 2016: 421.0\n"
     ]
    }
   ],
   "source": [
    "#Medidas de posição\n",
    "\n",
    "print('Média de assassinatos mundo em 2006:', round(murder_2006.mean(), 2))\n",
    "print()\n",
    "print('Média de assassinatos mundo em 2016:', round(murder_2016.mean(), 2))\n",
    "print()\n",
    "print('Mediana de assassinatos mundo em 2006:', murder_2006.median())\n",
    "print()\n",
    "print('Mediana de assassinatos mundo em 2016:', murder_2016.median())"
   ]
  },
  {
   "cell_type": "markdown",
   "metadata": {},
   "source": [
    "## Análise Bidmensional de duas váriaveis quantitativas"
   ]
  },
  {
   "cell_type": "code",
   "execution_count": 319,
   "metadata": {},
   "outputs": [],
   "source": [
    "#refugiados\n",
    "df1 = df_2006.loc[(df_2006[\"UE\"]==\"Sim\"),['2006_refugiados']]\n",
    "df2 = df_2016.loc[(df_2016[\"UE\"]==\"Sim\"),['2016_refugiados']]\n",
    "\n",
    "refg_2006= df1['2006_refugiados']\n",
    "refg_2016= df2['2016_refugiados']\n",
    "\n",
    "\n",
    "#desemprego\n",
    "df1 = df_2006.loc[(df_2006[\"UE\"]==\"Sim\"),['2006_desemprego']]\n",
    "df2 = df_2016.loc[(df_2016[\"UE\"]==\"Sim\"),['2016_desemprego']]\n",
    "\n",
    "unply_2006= df1['2006_desemprego']\n",
    "unply_2016= df2['2016_desemprego']\n",
    "\n",
    "\n",
    "#violencia\n",
    "df1 = df_2006.loc[(df_2006[\"UE\"]==\"Sim\"),['2006_assassinatos']]\n",
    "df2 = df_2016.loc[(df_2016[\"UE\"]==\"Sim\"),['2016_assassinatos']]\n",
    "\n",
    "murder_2006= df1['2006_assassinatos']\n",
    "murder_2016= df2['2016_assassinatos']\n",
    "\n"
   ]
  },
  {
   "cell_type": "code",
   "execution_count": 320,
   "metadata": {},
   "outputs": [
    {
     "data": {
      "text/plain": [
       "<matplotlib.axes._subplots.AxesSubplot at 0x2a3f5ae3160>"
      ]
     },
     "execution_count": 320,
     "metadata": {},
     "output_type": "execute_result"
    },
    {
     "data": {
      "image/png": "[encoded data removed]",
      "text/plain": [
       "<Figure size 432x288 with 1 Axes>"
      ]
     },
     "metadata": {
      "needs_background": "light"
     },
     "output_type": "display_data"
    }
   ],
   "source": [
    "df_2006.plot.scatter(x=\"2006_refugiados\", y = \"2006_desemprego\",  logx=True, color='b')"
   ]
  },
  {
   "cell_type": "code",
   "execution_count": 321,
   "metadata": {},
   "outputs": [
    {
     "data": {
      "text/plain": [
       "<matplotlib.axes._subplots.AxesSubplot at 0x2a3f561cb00>"
      ]
     },
     "execution_count": 321,
     "metadata": {},
     "output_type": "execute_result"
    },
    {
     "data": {
      "image/png": "[encoded data removed]",
      "text/plain": [
       "<Figure size 432x288 with 1 Axes>"
      ]
     },
     "metadata": {
      "needs_background": "light"
     },
     "output_type": "display_data"
    }
   ],
   "source": [
    "df_2006.plot.scatter(x=\"2006_refugiados\", y = \"2006_assassinatos\",  logx=True, logy= True, color='b')"
   ]
  },
  {
   "cell_type": "code",
   "execution_count": 322,
   "metadata": {},
   "outputs": [
    {
     "name": "stdout",
     "output_type": "stream",
     "text": [
      "Coeficiente linear: 9.040950692015947\n",
      "Coeficiente angular: -5.50517648315928e-06\n"
     ]
    },
    {
     "data": {
      "image/png": "[encoded data removed]",
      "text/plain": [
       "<Figure size 576x432 with 1 Axes>"
      ]
     },
     "metadata": {
      "needs_background": "light"
     },
     "output_type": "display_data"
    }
   ],
   "source": [
    "a = refg_2016.cov(unply_2016) / refg_2016.var()\n",
    "b = unply_2016.mean() - a*refg_2016.mean()\n",
    "\n",
    "print('Coeficiente linear:', b)\n",
    "print('Coeficiente angular:', a)\n",
    "\n",
    "fig = plt.figure(figsize=(8, 6))\n",
    "plt.scatter(refg_2016, unply_2016, c='red', alpha=0.8)\n",
    "plt.title('Países União Europeia - 2016')\n",
    "plt.xlabel('Refugiados')\n",
    "plt.ylabel('Desemprego')\n",
    "plt.xscale('log')\n",
    "\n",
    "plt.plot((refg_2016.min(), refg_2016.max()), (a*refg_2016.min()+b, a*refg_2016.max()+b), color='blue')\n",
    "\n",
    "plt.tight_layout()\n",
    "plt.show()"
   ]
  },
  {
   "cell_type": "code",
   "execution_count": 323,
   "metadata": {},
   "outputs": [
    {
     "name": "stdout",
     "output_type": "stream",
     "text": [
      "Coeficiente linear: 151.98641377391544\n",
      "Coeficiente angular: 0.0008550362079506653\n"
     ]
    },
    {
     "data": {
      "image/png": "[encoded data removed]",
      "text/plain": [
       "<Figure size 576x432 with 1 Axes>"
      ]
     },
     "metadata": {
      "needs_background": "light"
     },
     "output_type": "display_data"
    }
   ],
   "source": [
    "a = refg_2016.cov(murder_2016) / refg_2016.var()\n",
    "b = murder_2016.mean() - a*refg_2016.mean()\n",
    "\n",
    "print('Coeficiente linear:', b)\n",
    "print('Coeficiente angular:', a)\n",
    "\n",
    "fig = plt.figure(figsize=(8, 6))\n",
    "plt.scatter(refg_2016, murder_2016, c='red', alpha=0.8)\n",
    "plt.title('Países União Europeia')\n",
    "plt.xlabel('Refugiados')\n",
    "plt.ylabel('Desemprego')\n",
    "plt.xscale('log')\n",
    "\n",
    "plt.plot((refg_2016.min(), refg_2016.max()), (a*refg_2016.min()+b, a*refg_2016.max()+b), color='blue')\n",
    "\n",
    "plt.tight_layout()\n",
    "plt.show()"
   ]
  },
  {
   "cell_type": "code",
   "execution_count": 324,
   "metadata": {},
   "outputs": [
    {
     "name": "stderr",
     "output_type": "stream",
     "text": [
      "C:\\Users\\Luquinhass\\AppData\\Local\\Continuum\\anaconda3\\lib\\site-packages\\scipy\\stats\\stats.py:1713: FutureWarning: Using a non-tuple sequence for multidimensional indexing is deprecated; use `arr[tuple(seq)]` instead of `arr[seq]`. In the future this will be interpreted as an array index, `arr[np.array(seq)]`, which will result either in an error or a different result.\n",
      "  return np.add.reduce(sorted[indexer] * weights, axis=axis) / sumval\n"
     ]
    },
    {
     "data": {
      "image/png": "[encoded data removed]",
      "text/plain": [
       "<Figure size 720x360 with 1 Axes>"
      ]
     },
     "metadata": {
      "needs_background": "light"
     },
     "output_type": "display_data"
    }
   ],
   "source": [
    "fig = plt.figure(figsize=(10,5))\n",
    "sns.regplot(refg_2016, unply_2016, color=('red'))\n",
    "\n",
    "plt.xlabel('População refugiados 2016')\n",
    "plt.ylabel('Desemprego 2016')\n",
    "plt.xscale('log')\n",
    "plt.grid()\n",
    "plt.show()"
   ]
  },
  {
   "cell_type": "code",
   "execution_count": 325,
   "metadata": {},
   "outputs": [
    {
     "data": {
      "image/png": "[encoded data removed]",
      "text/plain": [
       "<Figure size 720x360 with 1 Axes>"
      ]
     },
     "metadata": {
      "needs_background": "light"
     },
     "output_type": "display_data"
    }
   ],
   "source": [
    "fig = plt.figure(figsize=(10,5))\n",
    "\n",
    "sns.regplot(refg_2016, murder_2016, color=('red'))\n",
    "plt.xlabel('População refugiados 2016')\n",
    "plt.ylabel('Assassinatos_2016')\n",
    "plt.xscale('log')\n",
    "plt.grid()\n",
    "plt.show()"
   ]
  },
  {
   "cell_type": "markdown",
   "metadata": {},
   "source": [
    "## Conclusão"
   ]
  },
  {
   "cell_type": "markdown",
   "metadata": {},
   "source": [
    "Responda à pergunta, argumento da melhor forma possível com base nos dados"
   ]
  },
  {
   "cell_type": "code",
   "execution_count": null,
   "metadata": {},
   "outputs": [],
   "source": []
  }
 ],
 "metadata": {
  "kernelspec": {
   "display_name": "Python 3",
   "language": "python",
   "name": "python3"
  },
  "language_info": {
   "codemirror_mode": {
    "name": "ipython",
    "version": 3
   },
   "file_extension": ".py",
   "mimetype": "text/x-python",
   "name": "python",
   "nbconvert_exporter": "python",
   "pygments_lexer": "ipython3",
   "version": "3.7.1"
  }
 },
 "nbformat": 4,
 "nbformat_minor": 2
}
